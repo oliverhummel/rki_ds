{
 "cells": [
  {
   "cell_type": "code",
   "execution_count": null,
   "metadata": {},
   "outputs": [],
   "source": [
    "import pandas as pd\n",
    "\n",
    "# Erläuterungen: https://www.arcgis.com/home/item.html?id=dd4580c810204019a7b8eb3e0b329dd6\n",
    "\n",
    "# > 250 MB, braucht seine Zeit, das zu laden\n",
    "df = pd.read_csv(\"https://opendata.arcgis.com/api/v3/datasets/dd4580c810204019a7b8eb3e0b329dd6_0/downloads/data?format=csv&spatialRefId=4326\")\n",
    "\n",
    "bak = df"
   ]
  },
  {
   "cell_type": "code",
   "execution_count": null,
   "metadata": {
    "scrolled": true
   },
   "outputs": [],
   "source": [
    "df.head(10)"
   ]
  },
  {
   "cell_type": "code",
   "execution_count": null,
   "metadata": {},
   "outputs": [],
   "source": [
    "# Wegen korrigierter Daten führt einfaches Addieren zu leicht inkorrekten Daten...\n",
    "\n",
    "df[ [\"AnzahlFall\", \"AnzahlTodesfall\"] ].sum()"
   ]
  },
  {
   "cell_type": "code",
   "execution_count": null,
   "metadata": {},
   "outputs": [],
   "source": [
    "# NeuerFall: \n",
    "#   0: Fall ist in der Publikation für den aktuellen Tag und in der für den Vortag enthalten\n",
    "#   1: Fall ist nur in der aktuellen Publikation enthalten\n",
    "#  -1: Fall ist nur in der Publikation des Vortags enthalten\n",
    "\n",
    "# damit ergibt sich: Anzahl Fälle der aktuellen Publikation als Summe(AnzahlFall), \n",
    "# wenn NeuerFall in (0,1); Delta zum Vortag als Summe(AnzahlFall) wenn NeuerFall in (-1,1)\n",
    "\n",
    "# -> die neuen minus die korrigierten Fälle gibt die Erhöhung des heutigen Tages\n",
    "\n",
    "alte = df[ (df[\"NeuerFall\"] == 0) ][\"AnzahlFall\"].sum()\n",
    "#print(alte)\n",
    "\n",
    "neue = df[ (df[\"NeuerFall\"] == 1) ][\"AnzahlFall\"].sum()\n",
    "#print(neue)\n",
    "\n",
    "korrektur = df[ (df[\"NeuerFall\"] == -1) ][\"AnzahlFall\"].sum()\n",
    "#print(korrektur)\n",
    "\n",
    "print(\"Differenz zum Vortag: \" + str(neue + korrektur))\n",
    "print(\"Gesamt: \" + str(neue + alte))"
   ]
  },
  {
   "cell_type": "code",
   "execution_count": null,
   "metadata": {},
   "outputs": [],
   "source": [
    "# Und jetzt pro Bundesland\n",
    "\n",
    "alte = df[ (df[\"NeuerFall\"] == 0) ].groupby(\"Bundesland\")[\"Bundesland\", \"AnzahlFall\"].sum()\n",
    "print(alte)\n",
    "\n",
    "neue = df[ (df[\"NeuerFall\"] == 1) ].groupby(\"Bundesland\")[\"Bundesland\", \"AnzahlFall\"].sum()\n",
    "print(neue)\n",
    "\n",
    "korrektur = df[ (df[\"NeuerFall\"] == -1) ].groupby(\"Bundesland\")[\"Bundesland\", \"AnzahlFall\"].sum()\n",
    "print(korrektur)\n",
    "\n",
    "#print(neue + alte)\n"
   ]
  },
  {
   "cell_type": "code",
   "execution_count": null,
   "metadata": {},
   "outputs": [],
   "source": [
    "# wieder geht es nicht so einfach... wenn Bundesländer keine Zahlen oder keine Korrektur melden, gibt es NaN...\n",
    "\n",
    "neue.set_axis([\"AnzahlFallHeute\"], axis=1, inplace=True)\n",
    "korrektur.set_axis([\"AnzahlKorrekturHeute\"], axis=1, inplace=True)\n",
    "\n",
    "heute = pd.concat([neue, korrektur], axis=1, sort=False).fillna(0).astype(int)\n",
    "\n",
    "gesamt = alte.copy()\n",
    "\n",
    "gesamt[\"DiffZuVortag\"] = heute[\"AnzahlFallHeute\"] + heute[\"AnzahlKorrekturHeute\"]\n",
    "gesamt[\"AnzahlFallHeute\"] = heute[\"AnzahlFallHeute\"]\n",
    "\n",
    "gesamt[\"AnzahlFall\"] = gesamt[[\"AnzahlFall\", \"AnzahlFallHeute\"]].sum(axis=1)\n",
    "gesamt.drop(gesamt.columns[2], axis=1, inplace=True)\n",
    "\n",
    "gesamt = gesamt.fillna(0).astype(int)\n",
    "print(gesamt)"
   ]
  }
 ],
 "metadata": {
  "kernelspec": {
   "display_name": "Python 3",
   "language": "python",
   "name": "python3"
  },
  "language_info": {
   "codemirror_mode": {
    "name": "ipython",
    "version": 3
   },
   "file_extension": ".py",
   "mimetype": "text/x-python",
   "name": "python",
   "nbconvert_exporter": "python",
   "pygments_lexer": "ipython3",
   "version": "3.7.4"
  }
 },
 "nbformat": 4,
 "nbformat_minor": 2
}
