{
 "cells": [
  {
   "cell_type": "code",
   "execution_count": 33,
   "metadata": {},
   "outputs": [],
   "source": [
    "import pandas as pd\n",
    "\n",
    "# Erläuterungen: https://www.arcgis.com/home/item.html?id=dd4580c810204019a7b8eb3e0b329dd6\n",
    "\n",
    "# > 250 MB, braucht seine Zeit, das zu laden\n",
    "df = pd.read_csv(\"https://opendata.arcgis.com/api/v3/datasets/dd4580c810204019a7b8eb3e0b329dd6_0/downloads/data?format=csv&spatialRefId=4326\")\n",
    "\n",
    "bak = df"
   ]
  },
  {
   "cell_type": "code",
   "execution_count": null,
   "metadata": {
    "scrolled": true
   },
   "outputs": [],
   "source": [
    "df.head(10)"
   ]
  },
  {
   "cell_type": "code",
   "execution_count": null,
   "metadata": {},
   "outputs": [],
   "source": [
    "# Wegen korrigierter Daten führt einfaches Addieren zu leicht inkorrekten Daten...\n",
    "\n",
    "df[ [\"AnzahlFall\", \"AnzahlTodesfall\"] ].sum()"
   ]
  },
  {
   "cell_type": "code",
   "execution_count": null,
   "metadata": {},
   "outputs": [],
   "source": [
    "# NeuerFall: \n",
    "#   0: Fall ist in der Publikation für den aktuellen Tag und in der für den Vortag enthalten\n",
    "#   1: Fall ist nur in der aktuellen Publikation enthalten\n",
    "#  -1: Fall ist nur in der Publikation des Vortags enthalten\n",
    "\n",
    "# damit ergibt sich: Anzahl Fälle der aktuellen Publikation als Summe(AnzahlFall), \n",
    "# wenn NeuerFall in (0,1); Delta zum Vortag als Summe(AnzahlFall) wenn NeuerFall in (-1,1)\n",
    "\n",
    "# -> die neuen minus die korrigierten Fälle gibt die Erhöhung des heutigen Tages\n",
    "\n",
    "alte = df[ (df[\"NeuerFall\"] == 0) ][\"AnzahlFall\"].sum()\n",
    "#print(alte)\n",
    "\n",
    "neue = df[ (df[\"NeuerFall\"] == 1) ][\"AnzahlFall\"].sum()\n",
    "#print(neue)\n",
    "\n",
    "korrektur = df[ (df[\"NeuerFall\"] == -1) ][\"AnzahlFall\"].sum()\n",
    "#print(korrektur)\n",
    "\n",
    "print(\"Differenz zum Vortag: \" + str(neue + korrektur))\n",
    "print(\"Gesamt: \" + str(neue + alte))"
   ]
  },
  {
   "cell_type": "code",
   "execution_count": null,
   "metadata": {},
   "outputs": [],
   "source": [
    "# Und jetzt pro Bundesland\n",
    "\n",
    "alte = df[ (df[\"NeuerFall\"] == 0) ].groupby(\"Bundesland\")[\"Bundesland\", \"AnzahlFall\"].sum()\n",
    "print(alte)\n",
    "\n",
    "neue = df[ (df[\"NeuerFall\"] == 1) ].groupby(\"Bundesland\")[\"Bundesland\", \"AnzahlFall\"].sum()\n",
    "print(neue)\n",
    "\n",
    "korrektur = df[ (df[\"NeuerFall\"] == -1) ].groupby(\"Bundesland\")[\"Bundesland\", \"AnzahlFall\"].sum()\n",
    "print(korrektur)\n",
    "\n",
    "#print(neue + alte)"
   ]
  },
  {
   "cell_type": "code",
   "execution_count": 36,
   "metadata": {},
   "outputs": [
    {
     "name": "stdout",
     "output_type": "stream",
     "text": [
      "                        AnzahlFall  DiffZuVortag\n",
      "Bundesland                                      \n",
      "Baden-Württemberg           487776           266\n",
      "Bayern                      634746           357\n",
      "Berlin                      177305            76\n",
      "Brandenburg                 107820            21\n",
      "Bremen                       26883            15\n",
      "Hamburg                      75817            68\n",
      "Hessen                      283959            89\n",
      "Mecklenburg-Vorpommern       43610            10\n",
      "Niedersachsen               256233            71\n",
      "Nordrhein-Westfalen         798651           538\n",
      "Rheinland-Pfalz             151493           160\n",
      "Saarland                     40429            16\n",
      "Sachsen                     281905            40\n",
      "Sachsen-Anhalt               97760            37\n",
      "Schleswig-Holstein           62622            80\n",
      "Thüringen                   126542            67\n"
     ]
    }
   ],
   "source": [
    "# wieder geht es nicht so einfach... wenn Bundesländer keine Zahlen oder keine Korrektur melden, gibt es NaN...\n",
    "\n",
    "neue.set_axis([\"AnzahlFallHeute\"], axis=1, inplace=True)\n",
    "korrektur.set_axis([\"AnzahlKorrekturHeute\"], axis=1, inplace=True)\n",
    "\n",
    "heute = pd.concat([neue, korrektur], axis=1, sort=False).fillna(0).astype(int)\n",
    "\n",
    "gesamt = alte.copy()\n",
    "\n",
    "gesamt[\"DiffZuVortag\"] = heute[\"AnzahlFallHeute\"] + heute[\"AnzahlKorrekturHeute\"]\n",
    "gesamt[\"AnzahlFallHeute\"] = heute[\"AnzahlFallHeute\"]\n",
    "\n",
    "gesamt[\"AnzahlFall\"] = gesamt[[\"AnzahlFall\", \"AnzahlFallHeute\"]].sum(axis=1)\n",
    "gesamt.drop(gesamt.columns[2], axis=1, inplace=True)\n",
    "\n",
    "gesamt = gesamt.fillna(0).astype(int)\n",
    "print(gesamt)"
   ]
  },
  {
   "cell_type": "code",
   "execution_count": null,
   "metadata": {},
   "outputs": [],
   "source": [
    "# Summe der letzte 7 Tage\n",
    "\n",
    "from datetime import timedelta\n",
    "\n",
    "df[\"Meldedatum\"]= pd.to_datetime(df[\"Meldedatum\"]).dt.tz_localize(None)\n",
    "df[\"Datenstand\"]= pd.to_datetime(df[\"Datenstand\"], format=\"%d.%m.%Y, %H:%M Uhr\")\n",
    "df[\"Refdatum\"]= pd.to_datetime(df[\"Refdatum\"]).dt.tz_localize(None)\n",
    "print(df[\"Meldedatum\"].max())\n",
    "\n",
    "wochenfrist = df[\"Meldedatum\"].max() - timedelta(days=7)\n",
    "\n",
    "gefiltert = df[ ((df[\"NeuerFall\"] == 0) | (df[\"NeuerFall\"] == 1)) & (df[\"Meldedatum\"] > wochenfrist)]\n",
    "\n",
    "gesamt[\"Summe7Tage\"] = gefiltert.groupby(\"Bundesland\")[\"Bundesland\", \"AnzahlFall\"].sum()\n",
    "\n",
    "gesamt"
   ]
  },
  {
   "cell_type": "code",
   "execution_count": null,
   "metadata": {},
   "outputs": [],
   "source": [
    "# Inzidenz benötigt die Einwohnerzahlen der Bundesländer -> in einem zukünftigen Video ;-)"
   ]
  },
  {
   "cell_type": "code",
   "execution_count": null,
   "metadata": {},
   "outputs": [],
   "source": [
    "# Todesfälle pro Bundesland\n",
    "\n",
    "tfs = df[ (df[\"NeuerTodesfall\"] == 0) | (df[\"NeuerTodesfall\"] == 1) ]\n",
    "\n",
    "gesamt[\"AnzahlTf\"] = df.groupby(\"Bundesland\")[\"Bundesland\", \"AnzahlTodesfall\"].sum()\n",
    "\n",
    "gesamt"
   ]
  },
  {
   "cell_type": "code",
   "execution_count": null,
   "metadata": {},
   "outputs": [],
   "source": [
    "# Summen für ganz Deutschland\n",
    "\n",
    "summen = gesamt.sum()\n",
    "\n",
    "brd = pd.DataFrame({\"\":summen.index, \"Bundesrepublik\":summen.values}).transpose()\n",
    "\n",
    "brd.columns = brd.iloc[0]\n",
    "brd = brd.drop(brd.index[0])\n",
    "\n",
    "brd = pd.concat([gesamt, brd])\n",
    "\n",
    "brd"
   ]
  },
  {
   "cell_type": "code",
   "execution_count": null,
   "metadata": {},
   "outputs": [],
   "source": [
    "# Grafische Darstellung der Fallzahlen\n",
    "\n",
    "import matplotlib.pylab as plt\n",
    "#import matplotlib.dates as md\n",
    "\n",
    "gefiltert = df[(df[\"NeuerFall\"] == 1) | (df[\"NeuerFall\"] == 0)]\n",
    "\n",
    "summe = gefiltert.groupby(\"Meldedatum\")[\"AnzahlFall\"].sum()\n",
    "#schnitt = summe.rolling(7).mean()\n",
    "\n",
    "ax = summe.plot(figsize=(20,15))\n",
    "schnitt.plot(ax=ax)\n",
    "\n",
    "#ax.legend([\"Fallzahlen\", \"7TageSchnitt\"])\n",
    "\n",
    "#ax.set_axisbelow(True)\n",
    "#ax.grid()\n",
    "#ax.xaxis.set_major_locator(md.MonthLocator(interval=1))\n",
    "#ax.xaxis.set_major_formatter(md.DateFormatter(\"%d-%m-%Y\"))\n",
    "\n",
    "plt.show()"
   ]
  }
 ],
 "metadata": {
  "kernelspec": {
   "display_name": "Python 3",
   "language": "python",
   "name": "python3"
  },
  "language_info": {
   "codemirror_mode": {
    "name": "ipython",
    "version": 3
   },
   "file_extension": ".py",
   "mimetype": "text/x-python",
   "name": "python",
   "nbconvert_exporter": "python",
   "pygments_lexer": "ipython3",
   "version": "3.7.4"
  }
 },
 "nbformat": 4,
 "nbformat_minor": 2
}
